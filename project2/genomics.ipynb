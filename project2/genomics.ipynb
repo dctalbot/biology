{
 "cells": [
  {
   "cell_type": "markdown",
   "id": "95b93dcb",
   "metadata": {},
   "source": [
    "# Computational Biology Seminar\n",
    "## Project 2: Genomics\n",
    "\n",
    "The goal for this project is to do a genome-wide association study (GWAS) using a mock dataset (since the real datasets required for this typically aren't publicly available)."
   ]
  },
  {
   "cell_type": "code",
   "execution_count": 3,
   "id": "e6922947",
   "metadata": {},
   "outputs": [],
   "source": [
    "import csv\n",
    "import numpy as np"
   ]
  },
  {
   "cell_type": "markdown",
   "id": "da13ff02",
   "metadata": {},
   "source": [
    "### **Step 1:** Reading in the data\n",
    "\n",
    "In our mock dataset, there is a row for each SNP. For each row, the first three columns contain the information about the SNP: snp_id (chromosome number and position), the reference nucleotide, and the variant nucleotide. \n",
    "\n",
    "Then, there are 200 columns, corresponding to the 200 samples labeled in the heading row. The first 100 are the control samples (those that didn't turn into zombies). The next 100 are the \"case\" samples -- those that did turn into zombies. For each SNP, the column for each samples contains a 0, 1, or 2. This tells us whether that person was homozygous for the reference nucleotide (0), heterozygous (1), or homozygous for the variant nucleotide.\n",
    "\n",
    "To start, let's read in all this data. We'll store the first three columns in a list called `snp_info`, and the rest in a list of lists called `data`."
   ]
  },
  {
   "cell_type": "code",
   "execution_count": 5,
   "id": "307ec9d2",
   "metadata": {},
   "outputs": [],
   "source": [
    "snp_info = []\n",
    "data = []\n",
    "with open(\"data/example_data.csv\") as csvfile:\n",
    "    reader = csv.reader(csvfile, delimiter=',')\n",
    "\n",
    "    for row in reader:\n",
    "\n",
    "        snp_info.append(row[0:3])\n",
    "        data.append(row[3:])"
   ]
  },
  {
   "cell_type": "markdown",
   "id": "525a7bf6",
   "metadata": {},
   "source": [
    "The first row was the column headings, so we'll remove that from both `snp_info` and `data` and store it separately."
   ]
  },
  {
   "cell_type": "code",
   "execution_count": 6,
   "id": "f26650bf",
   "metadata": {},
   "outputs": [],
   "source": [
    "snp_header = snp_info[0]\n",
    "snp_info = snp_info[1:]\n",
    "\n",
    "samples = data[0]\n",
    "data = data[1:]"
   ]
  },
  {
   "cell_type": "markdown",
   "id": "963be8a4",
   "metadata": {},
   "source": [
    "Next, we'll cast all these lists to NumPy arrays to make them easier to work with. And remember, we need to cast the elements in `data` to floats (or ints in this case if we wanted) since they were read in as strings by default."
   ]
  },
  {
   "cell_type": "code",
   "execution_count": 7,
   "id": "059619d3",
   "metadata": {},
   "outputs": [],
   "source": [
    "snp_info = np.array(snp_info)\n",
    "data = np.array(data).astype(float)\n",
    "\n",
    "snp_header = np.array(snp_header)\n",
    "samples = np.array(samples)"
   ]
  },
  {
   "cell_type": "markdown",
   "id": "5cb57d95",
   "metadata": {},
   "source": [
    "Quick shape check..."
   ]
  },
  {
   "cell_type": "code",
   "execution_count": 8,
   "id": "3ade6308",
   "metadata": {},
   "outputs": [
    {
     "name": "stdout",
     "output_type": "stream",
     "text": [
      "(48752, 3)\n",
      "(48752, 200)\n",
      "\n",
      "(3,)\n",
      "(200,)\n"
     ]
    }
   ],
   "source": [
    "print(snp_info.shape)\n",
    "print(data.shape)\n",
    "print()\n",
    "print(snp_header.shape)\n",
    "print(samples.shape)"
   ]
  },
  {
   "cell_type": "markdown",
   "id": "2f95952b",
   "metadata": {},
   "source": [
    "Quick content check..."
   ]
  },
  {
   "cell_type": "code",
   "execution_count": 14,
   "id": "17290504",
   "metadata": {},
   "outputs": [
    {
     "name": "stdout",
     "output_type": "stream",
     "text": [
      "snp_header:\n",
      "['snp_id' 'ref' 'var']\n",
      "\n",
      "samples:\n",
      "['normal_1' 'normal_2' 'normal_3' 'normal_4']\n",
      "\n",
      "snp_info:\n",
      "[['chr1:944564' 'T' 'C']\n",
      " ['chr1:950243' 'A' 'C']\n",
      " ['chr1:959842' 'C' 'T']\n",
      " ['chr1:990417' 'T' 'C']\n",
      " ['chr1:1297065' 'C' 'T']]\n",
      "\n",
      "data:\n",
      "[[0. 1. 1. 1.]\n",
      " [2. 2. 1. 1.]\n",
      " [1. 2. 1. 2.]\n",
      " [0. 2. 2. 2.]\n",
      " [2. 1. 0. 1.]]\n",
      "\n"
     ]
    }
   ],
   "source": [
    "print(\"snp_header:\")\n",
    "print(snp_header)\n",
    "print()\n",
    "\n",
    "print(\"samples:\")\n",
    "print(samples[0:4])\n",
    "print()\n",
    "\n",
    "print(\"snp_info:\")\n",
    "print(snp_info[0:5])\n",
    "print()\n",
    "\n",
    "print(\"data:\")\n",
    "print(data[0:5,0:4])\n",
    "print()"
   ]
  },
  {
   "cell_type": "markdown",
   "id": "d36e377f",
   "metadata": {},
   "source": [
    "Next we want to make an array with the case/control (zombie/normal) labels for each sample. We can do this with some pretty basic string manipulation."
   ]
  },
  {
   "cell_type": "code",
   "execution_count": 15,
   "id": "2795c05f",
   "metadata": {},
   "outputs": [],
   "source": [
    "labels = []\n",
    "\n",
    "for i in range(len(samples)):\n",
    "    tmp = samples[i].split(\"_\")\n",
    "    labels.append(tmp[0])\n",
    "    \n",
    "labels = np.array(labels)"
   ]
  },
  {
   "cell_type": "markdown",
   "id": "d8800752",
   "metadata": {},
   "source": [
    "Quick checks..."
   ]
  },
  {
   "cell_type": "code",
   "execution_count": 16,
   "id": "9f914852",
   "metadata": {},
   "outputs": [
    {
     "name": "stdout",
     "output_type": "stream",
     "text": [
      "['normal' 'normal' 'normal' 'normal' 'normal']\n",
      "{'normal', 'zombie'}\n"
     ]
    }
   ],
   "source": [
    "print(labels[0:5])\n",
    "\n",
    "print(set(labels))"
   ]
  },
  {
   "cell_type": "markdown",
   "id": "8f6a1c1c",
   "metadata": {},
   "source": [
    "### **Step 2:** GWAS analysis\n"
   ]
  }
 ],
 "metadata": {
  "kernelspec": {
   "display_name": "Python 3.11",
   "language": "python",
   "name": "python3.11"
  },
  "language_info": {
   "codemirror_mode": {
    "name": "ipython",
    "version": 3
   },
   "file_extension": ".py",
   "mimetype": "text/x-python",
   "name": "python",
   "nbconvert_exporter": "python",
   "pygments_lexer": "ipython3",
   "version": "3.11.4"
  }
 },
 "nbformat": 4,
 "nbformat_minor": 5
}
